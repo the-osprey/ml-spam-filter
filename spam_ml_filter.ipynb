{
 "cells": [
  {
   "cell_type": "markdown",
   "metadata": {},
   "source": [
    "# Machine Learning Spam Filter\n",
    "\n",
    "In this project, I create a classifier to distinguish spam emails from normal ones. Specifically, I use supervised learning to classify each email as such. This notebook walks you through the whole process, from data processing to training a model. \n",
    "\n",
    "In the end, it attains 99.4% accuracy. "
   ]
  },
  {
   "cell_type": "markdown",
   "metadata": {},
   "source": [
    "---"
   ]
  },
  {
   "cell_type": "markdown",
   "metadata": {},
   "source": [
    "# Initial Analysis\n"
   ]
  },
  {
   "cell_type": "code",
   "execution_count": 41,
   "metadata": {
    "collapsed": true
   },
   "outputs": [],
   "source": [
    "import numpy as np\n",
    "import pandas as pd\n",
    "\n",
    "import matplotlib.pyplot as plt\n",
    "%matplotlib inline\n",
    "\n",
    "import seaborn as sns\n",
    "sns.set(style = \"whitegrid\", \n",
    "        color_codes = True,\n",
    "        font_scale = 1.5)"
   ]
  },
  {
   "cell_type": "markdown",
   "metadata": {},
   "source": [
    "### Loading in the Data\n",
    "\n",
    "The dataset consists of email messages and their labels (0 for ham, 1 for spam). It contains 8348 labelled examples. In the end, I evaluate it on 1000 unlabelled examples. \n",
    "\n",
    "The `train` DataFrame contains labelled data that you I use to train my model. It contains three columns:\n",
    "\n",
    "1. `id`: An identifier for the training example.\n",
    "1. `subject`: The subject of the email\n",
    "1. `email`: The text of the email.\n",
    "1. `spam`: 1 if the email was spam, 0 if the email was ham (not spam).\n",
    "\n",
    "The `evaluation` DataFrame contains another set of 1000 unlabelled examples. I predict the category for them, and then evaluate them afterwards."
   ]
  },
  {
   "cell_type": "code",
   "execution_count": 42,
   "metadata": {
    "collapsed": false
   },
   "outputs": [
    {
     "data": {
      "text/html": [
       "<div>\n",
       "<style scoped>\n",
       "    .dataframe tbody tr th:only-of-type {\n",
       "        vertical-align: middle;\n",
       "    }\n",
       "\n",
       "    .dataframe tbody tr th {\n",
       "        vertical-align: top;\n",
       "    }\n",
       "\n",
       "    .dataframe thead th {\n",
       "        text-align: right;\n",
       "    }\n",
       "</style>\n",
       "<table border=\"1\" class=\"dataframe\">\n",
       "  <thead>\n",
       "    <tr style=\"text-align: right;\">\n",
       "      <th></th>\n",
       "      <th>id</th>\n",
       "      <th>subject</th>\n",
       "      <th>email</th>\n",
       "      <th>spam</th>\n",
       "    </tr>\n",
       "  </thead>\n",
       "  <tbody>\n",
       "    <tr>\n",
       "      <th>0</th>\n",
       "      <td>0</td>\n",
       "      <td>Subject: A&amp;L Daily to be auctioned in bankrupt...</td>\n",
       "      <td>url: http://boingboing.net/#85534171\\n date: n...</td>\n",
       "      <td>0</td>\n",
       "    </tr>\n",
       "    <tr>\n",
       "      <th>1</th>\n",
       "      <td>1</td>\n",
       "      <td>Subject: Wired: \"Stronger ties between ISPs an...</td>\n",
       "      <td>url: http://scriptingnews.userland.com/backiss...</td>\n",
       "      <td>0</td>\n",
       "    </tr>\n",
       "    <tr>\n",
       "      <th>2</th>\n",
       "      <td>2</td>\n",
       "      <td>Subject: It's just too small                  ...</td>\n",
       "      <td>&lt;html&gt;\\n &lt;head&gt;\\n &lt;/head&gt;\\n &lt;body&gt;\\n &lt;font siz...</td>\n",
       "      <td>1</td>\n",
       "    </tr>\n",
       "    <tr>\n",
       "      <th>3</th>\n",
       "      <td>3</td>\n",
       "      <td>Subject: liberal defnitions\\n</td>\n",
       "      <td>depends on how much over spending vs. how much...</td>\n",
       "      <td>0</td>\n",
       "    </tr>\n",
       "    <tr>\n",
       "      <th>4</th>\n",
       "      <td>4</td>\n",
       "      <td>Subject: RE: [ILUG] Newbie seeks advice - Suse...</td>\n",
       "      <td>hehe sorry but if you hit caps lock twice the ...</td>\n",
       "      <td>0</td>\n",
       "    </tr>\n",
       "  </tbody>\n",
       "</table>\n",
       "</div>"
      ],
      "text/plain": [
       "   id                                            subject  \\\n",
       "0   0  Subject: A&L Daily to be auctioned in bankrupt...   \n",
       "1   1  Subject: Wired: \"Stronger ties between ISPs an...   \n",
       "2   2  Subject: It's just too small                  ...   \n",
       "3   3                      Subject: liberal defnitions\\n   \n",
       "4   4  Subject: RE: [ILUG] Newbie seeks advice - Suse...   \n",
       "\n",
       "                                               email  spam  \n",
       "0  url: http://boingboing.net/#85534171\\n date: n...     0  \n",
       "1  url: http://scriptingnews.userland.com/backiss...     0  \n",
       "2  <html>\\n <head>\\n </head>\\n <body>\\n <font siz...     1  \n",
       "3  depends on how much over spending vs. how much...     0  \n",
       "4  hehe sorry but if you hit caps lock twice the ...     0  "
      ]
     },
     "execution_count": 42,
     "metadata": {},
     "output_type": "execute_result"
    }
   ],
   "source": [
    "original_training_data = pd.read_csv('data/train.csv')\n",
    "evaluation = pd.read_csv('data/eval.csv')\n",
    "\n",
    "# Convert the emails to lower case as a first step to processing the text\n",
    "original_training_data['email'] = original_training_data['email'].str.lower()\n",
    "evaluation['email'] = evaluation['email'].str.lower()\n",
    "\n",
    "original_training_data.head()"
   ]
  },
  {
   "cell_type": "markdown",
   "metadata": {},
   "source": [
    "## Train-Test Split\n",
    "\n",
    "The training data I use is all the data  available for both training models and **testing** the models that we train.  We therefore need to split the training data into separate training and test datsets."
   ]
  },
  {
   "cell_type": "code",
   "execution_count": 43,
   "metadata": {
    "collapsed": true
   },
   "outputs": [],
   "source": [
    "from sklearn.model_selection import train_test_split\n",
    "\n",
    "[train, test] = train_test_split(original_training_data, test_size=0.1, random_state=42)"
   ]
  },
  {
   "cell_type": "markdown",
   "metadata": {},
   "source": [
    "Let's take a look at two emails--one spam and one ham-- and see if we can get some differences between them and help us start thinking about features."
   ]
  },
  {
   "cell_type": "code",
   "execution_count": 44,
   "metadata": {
    "collapsed": true
   },
   "outputs": [],
   "source": [
    "first_ham = list(train[train['id'] == 7657]['email'])[0]\n",
    "first_spam = list(train[train['id'] == 5247]['email'])[0]"
   ]
  },
  {
   "cell_type": "code",
   "execution_count": 45,
   "metadata": {
    "collapsed": false
   },
   "outputs": [
    {
     "data": {
      "text/plain": [
       "'while i was playing with the past issues, it annoyed me that there was\\n no easy way to make the log stop growing (i don\\'t mean to truncate it,\\n i mean to just freeze it for a while).\\n \\n the following patch adds a new button to the log window, which allows\\n the log to be switched on/off (the button says \"disable\" when the\\n log is enabled, and the button disables it, and \"enable\" when the log\\n is frozen, and the button enables it again).\\n \\n kre\\n \\n --- main.tcl\\twed aug 21 15:01:48 2002\\n +++ /usr/local/lib/exmh-2.5/main.tcl\\twed aug 28 17:36:59 2002\\n @@ -385,6 +385,9 @@\\n  \\texmhlogcreate\\n  \\twm withdraw $exmh(logtop)\\n      }\\n +    if {! $exmh(logwrite)} {\\n +\\treturn\\n +    }\\n      if [info exists exmh(log)] {\\n  \\tcatch {\\n  #\\t    $exmh(log) insert end \" [bw_delta] \"\\n @@ -407,6 +410,9 @@\\n      set exmh(logwindow) 1\\n      exwin_toplevel .log \"exmh log\" log\\n      set exmh(logtop) .log\\n +    set exmh(logdisablebut) \\\\\\n +\\t[widget_addbut $exmh(logtop).but swap \"disable\" exmhlogtoggle]\\n +    set exmh(logwrite) 1\\n      widget_addbut $exmh(logtop).but trunc \"truncate\" exmhlogtrunc\\n      widget_addbut $exmh(logtop).but save \"save to file\" exmhlogsave\\n      set exmh(logyview) 1\\n @@ -457,6 +463,12 @@\\n      } msg] {\\n  \\texmh_status \"cannot save log: $msg\" error\\n      }\\n +}\\n +proc exmhlogtoggle {} {\\n +    global exmh\\n +\\n +    set exmh(logwrite) [expr ! $exmh(logwrite)]\\n +    $exmh(logdisablebut) configure -text [lindex {\"enable \" disable} $exmh(logwrite)]\\n  }\\n  #### misc\\n  \\n \\n \\n \\n \\n _______________________________________________\\n exmh-workers mailing list\\n exmh-workers@redhat.com\\n https://listman.redhat.com/mailman/listinfo/exmh-workers\\n \\n'"
      ]
     },
     "execution_count": 45,
     "metadata": {},
     "output_type": "execute_result"
    }
   ],
   "source": [
    "first_ham"
   ]
  },
  {
   "cell_type": "code",
   "execution_count": 46,
   "metadata": {
    "collapsed": false
   },
   "outputs": [
    {
     "data": {
      "text/plain": [
       "'--===_secatt_000_1fuklemuttfusq\\n content-type: text/plain; charset=\"us-ascii\"\\n content-transfer-encoding: quoted-printable\\n \\n aluko martin\\n 23 victoriagarden city=2c\\n lagos-nigeria=2e\\n \\n attn=2e\\n \\n \\n we have an immediate business proposal that involves us$34=2c700=2c000\\n which we will like to invest under your custody=2e please=2c do not\\n hesitate\\n to send me an email=2c so as to discuss with you the details of the\\n transaction=2fthe\\n terms and condition of sharing regarding the business=2e\\n your urgent response will be highly appreciated and will swiftly\\n bring us\\n to the commencement of the transaction=2e we hope to conclude this\\n transaction\\n within 10-12 working days=2e do not forget to contact me on receipt of\\n this\\n mail=2e and please ensure to maintain absolute confidentiality with\\n regard to\\n this\\n pending transaction=2e i urgently await your response=2e\\n \\n best regards=2c\\n \\n aluko martin=2e\\n \\n -- \\n \\n \\n --===_secatt_000_1fuklemuttfusq\\n content-type: application/octet-stream; name=\"mailxs_list.lst\"\\n content-transfer-encoding: base64\\n content-disposition: attachment; filename=\"mailxs_list.lst\"\\n \\n \\n --===_secatt_000_1fuklemuttfusq\\n \\n'"
      ]
     },
     "execution_count": 46,
     "metadata": {},
     "output_type": "execute_result"
    }
   ],
   "source": [
    "first_spam"
   ]
  },
  {
   "cell_type": "markdown",
   "metadata": {},
   "source": [
    "Clearly the formating is not so great. It's hard to even read these examples since we see metacharacters such as line breaks. We'll have to clean this and figure out how to handle these cases. \n",
    "\n",
    "Now looking at the subject of the emails, we can see some obvious differences that most would expect. One difference we can notice has to do with the topic of the conversation. A mundane conversation on mathematics is a ham one,  whereas one concerning a Nigerian prince's bank account (hah) is the other. Looking at the words, we get a hunch that money-related words may be an indication of spam. After all, spam emails are sent to make money in one way or another.\n"
   ]
  },
  {
   "cell_type": "markdown",
   "metadata": {},
   "source": [
    "# Basic EDA\n",
    "\n",
    "Now we need to identify some features that allow us to tell spam and ham emails apart. One idea is to compare the distribution of a single feature in spam emails to the distribution of the same feature in ham emails. If the feature is itself a binary indicator, such as whether a certain word occurs in the text, this amounts to comparing the proportion of spam emails with the word to the proportion of ham emails with the word.\n"
   ]
  },
  {
   "cell_type": "markdown",
   "metadata": {},
   "source": [
    "First I create a function called words_in_texts that takes in a list of words and a pandas Series of email texts. It outputs a 2-dimensional NumPy array containing one row for each email text. The row should contain either a 0 or a 1 for each word in the list: 0 if the word doesn't appear in the text and 1 if the word does. "
   ]
  },
  {
   "cell_type": "code",
   "execution_count": 47,
   "metadata": {
    "collapsed": false
   },
   "outputs": [
    {
     "data": {
      "text/plain": [
       "array([[1, 0, 0],\n",
       "       [1, 0, 1]])"
      ]
     },
     "execution_count": 47,
     "metadata": {},
     "output_type": "execute_result"
    }
   ],
   "source": [
    "def words_in_texts(words, texts):\n",
    "    '''\n",
    "    Args:\n",
    "        words (list-like): words to find\n",
    "        texts (Series): strings to search in\n",
    "    \n",
    "    Returns:\n",
    "        NumPy array of 0s and 1s with shape (n, p) where n is the\n",
    "        number of texts and p is the number of words.\n",
    "    '''\n",
    "    matches_df = pd.DataFrame()\n",
    "    row = 0\n",
    "    for text in texts:\n",
    "        matches_df[row] = pd.Series(([int(i in text) for i in words]))\n",
    "        row += 1\n",
    "    matches_array = matches_df.transpose().values\n",
    "    return matches_array\n",
    "  \n",
    "\n",
    "#Test\n",
    "words_in_texts(['hello', 'bye', 'world'], \n",
    "                                  pd.Series(['hello', 'hello world hello']))"
   ]
  },
  {
   "cell_type": "markdown",
   "metadata": {},
   "source": [
    "Now, I can create a bar chart to get an idea of how certain words appear in ham or spam emails. "
   ]
  },
  {
   "cell_type": "code",
   "execution_count": 48,
   "metadata": {
    "collapsed": true
   },
   "outputs": [],
   "source": [
    "def words_in_text_df(words, spam = None):\n",
    "    \"\"\"\n",
    "    Param: WORDS takes in LIST of STRINGS you want to match\n",
    "    Return: df with cols of each word to match. 1 means it is in text\n",
    "    \"\"\"\n",
    "    if(spam == None):\n",
    "        return pd.DataFrame(words_in_texts(words ,  original_training_data['email']), columns = words)\n",
    "    if(spam == True):\n",
    "        return pd.DataFrame(words_in_texts(words ,  original_training_data[original_training_data['spam'] == 1]['email']), columns = words)\n",
    "    else:\n",
    "        return pd.DataFrame(words_in_texts(words ,  original_training_data[original_training_data['spam'] == 0]['email']), columns = words)"
   ]
  },
  {
   "cell_type": "code",
   "execution_count": 49,
   "metadata": {
    "collapsed": true
   },
   "outputs": [],
   "source": [
    "# #sanity check\n",
    "# words = ['body', 'business', 'html', 'money', 'offer', 'please']\n",
    "# matches = words_in_text_df(words, False)\n",
    "# assert len(matches) + len(words_in_text_df(words, True)) == len(words_in_text_df(words))\n"
   ]
  },
  {
   "cell_type": "code",
   "execution_count": 50,
   "metadata": {
    "collapsed": false
   },
   "outputs": [
    {
     "data": {
      "text/plain": [
       "<matplotlib.text.Text at 0x7fc80dd8f1d0>"
      ]
     },
     "execution_count": 50,
     "metadata": {},
     "output_type": "execute_result"
    },
    {
     "data": {
      "image/png": "[encoded data removed]",
      "text/plain": [
       "<matplotlib.figure.Figure at 0x7fc80df4aa20>"
      ]
     },
     "metadata": {},
     "output_type": "display_data"
    }
   ],
   "source": [
    "words = ['body', 'business', 'html', 'money', 'offer', 'please']\n",
    "spam_df = words_in_text_df(words, spam=True)\n",
    "spam_prop = (spam_df.sum() / len(spam_df)).to_frame()\n",
    "spam_prop['spam'] = 'spam'\n",
    "spam_prop.reset_index(inplace=True)\n",
    "spam_prop.rename(columns = {'index':'word', 0:'prop'}, inplace = True)\n",
    "\n",
    "\n",
    "ham_df = words_in_text_df(words, spam=False)\n",
    "ham_prop = (ham_df.sum() / len(ham_df)).to_frame()\n",
    "ham_prop['spam'] = 'ham'\n",
    "ham_prop.reset_index(inplace=True)\n",
    "ham_prop.rename(columns = {'index':'word', 0:'prop'}, inplace = True)\n",
    "\n",
    "concat_df = pd.concat([ham_prop, spam_prop])\n",
    "# total_df = ham_prop.merge(spam_prop, on='word')\n",
    "\n",
    "fig, ax = plt.subplots()\n",
    "sns.barplot(x = concat_df['word'], y = concat_df['prop'], hue = concat_df['spam'])\n",
    "ax.set_ylabel('Proportion of Emails')\n",
    "plt.ylim((0, 1))\n",
    "ax.legend()\n",
    "plt.title('Reproduction')"
   ]
  },
  {
   "cell_type": "markdown",
   "metadata": {},
   "source": [
    "Let's do another--why not"
   ]
  },
  {
   "cell_type": "code",
   "execution_count": 51,
   "metadata": {
    "collapsed": false
   },
   "outputs": [
    {
     "data": {
      "text/plain": [
       "<matplotlib.text.Text at 0x7fc80de1de48>"
      ]
     },
     "execution_count": 51,
     "metadata": {},
     "output_type": "execute_result"
    },
    {
     "data": {
      "image/png": "[encoded data removed]",
      "text/plain": [
       "<matplotlib.figure.Figure at 0x7fc811362b38>"
      ]
     },
     "metadata": {},
     "output_type": "display_data"
    }
   ],
   "source": [
    "words = ['news', 'today', 'free', 'buy', '$', '!']\n",
    "spam_df = words_in_text_df(words, spam=True)\n",
    "spam_prop = (spam_df.sum() / len(spam_df)).to_frame()\n",
    "spam_prop['spam'] = 'spam'\n",
    "spam_prop.reset_index(inplace=True)\n",
    "spam_prop.rename(columns = {'index':'word', 0:'prop'}, inplace = True)\n",
    "\n",
    "\n",
    "ham_df = words_in_text_df(words, spam=False)\n",
    "ham_prop = (ham_df.sum() / len(ham_df)).to_frame()\n",
    "ham_prop['spam'] = 'ham'\n",
    "ham_prop.reset_index(inplace=True)\n",
    "ham_prop.rename(columns = {'index':'word', 0:'prop'}, inplace = True)\n",
    "\n",
    "concat_df = pd.concat([ham_prop, spam_prop])\n",
    "# total_df = ham_prop.merge(spam_prop, on='word')\n",
    "\n",
    "fig, ax = plt.subplots()\n",
    "sns.barplot(x = concat_df['word'], y = concat_df['prop'], hue = concat_df['spam'])\n",
    "ax.set_ylabel('Proportion of Emails')\n",
    "plt.ylim((0, 1))\n",
    "ax.legend()\n",
    "plt.title('My Words')"
   ]
  },
  {
   "cell_type": "markdown",
   "metadata": {},
   "source": [
    "When a feature is binary, it makes sense to compare the proportion of 1s in the two classes of email. Otherwise, if the feature can take on many values, it makes sense to compare the distribution under spam to the distribution under ham. So, we create a class conditional density plot to compare the distribution of a feature among all spam emails to the distribution of the same feature among all ham emails."
   ]
  },
  {
   "cell_type": "code",
   "execution_count": 52,
   "metadata": {
    "collapsed": true
   },
   "outputs": [],
   "source": [
    "import re\n",
    "word_pct = pd.read_csv('data/train.csv')\n",
    "word_pct_spam = word_pct[word_pct.loc[:, 'spam'] == 1]\n",
    "\n",
    "word_pct_ham = word_pct[word_pct.loc[:, 'spam'] == 0]"
   ]
  },
  {
   "cell_type": "code",
   "execution_count": 53,
   "metadata": {
    "collapsed": false
   },
   "outputs": [
    {
     "data": {
      "text/plain": [
       "<matplotlib.legend.Legend at 0x7fc80db56898>"
      ]
     },
     "execution_count": 53,
     "metadata": {},
     "output_type": "execute_result"
    },
    {
     "data": {
      "image/png": "[encoded data removed]",
      "text/plain": [
       "<matplotlib.figure.Figure at 0x7fc80df63828>"
      ]
     },
     "metadata": {},
     "output_type": "display_data"
    }
   ],
   "source": [
    "# Gets rid of bugy settingwithcopywarning; my assignments are ok\n",
    "pd.options.mode.chained_assignment = None\n",
    "\n",
    "word_pct_spam.loc[:, 'pct'] = word_pct_spam.loc[:, 'email'].str.findall('[A-Z]').str.len() / word_pct_spam.loc[:, 'email'].str.findall('[a-zA-Z]').str.len()\n",
    "\n",
    "word_pct_ham.loc[:, 'pct'] = word_pct_ham.loc[:, 'email'].str.findall('[A-Z]').str.len() / word_pct_ham.loc[:, 'email'].str.findall('[a-zA-Z]').str.len()\n",
    "\n",
    "\n",
    "\n",
    "sns.distplot(word_pct_ham['pct'])\n",
    "sns.distplot(word_pct_spam['pct'])\n",
    "plt.xlabel('Fraction of Uppercase Letters in Email')\n",
    "plt.legend(['Ham', 'Spam'])"
   ]
  },
  {
   "cell_type": "markdown",
   "metadata": {},
   "source": [
    "For demonstration purposes (before I use a nice SK-learn feature that does a lot more), I will hand-code a "
   ]
  },
  {
   "cell_type": "markdown",
   "metadata": {},
   "source": [
    "# Feature Engineering\n",
    "\n",
    "As you have probably noticed, we want to take the text of an email and predict whether the text is ham or spam. This is a classification problem, so we can use logistic regression to make a classifier. Recall that to train an logistic regression model we need a numeric feature matrix $\\Phi$ (pronounced phi as in wifi) and corresponding binary labels $Y$.  Unfortunately, our data are text, not numbers. To address this, we can create numeric features derived from the email text and use those features for logistic regression.\n",
    "\n",
    "Each row of $\\Phi$ is derived from one email example. Each column of $\\Phi$  is one feature."
   ]
  },
  {
   "cell_type": "markdown",
   "metadata": {},
   "source": [
    "Notice that the output of `words_in_texts(words, train['email'])` is a numeric matrix containing features for each email. This means we can use it directly to train a classifier!"
   ]
  },
  {
   "cell_type": "markdown",
   "metadata": {},
   "source": [
    "Before I use some more complex and nebulous SK-learn features and more complicated matrix work, I will hand-code a feature for our model. I do this to demonstrate the basic premise of feature engineering here. "
   ]
  },
  {
   "cell_type": "markdown",
   "metadata": {},
   "source": [
    "Specifically, I use 5 words that are probably useful to distinguish spam/ham emails. Use these words as well as the `train` DataFrame to create two NumPy arrays: `Phi_train` and `Y_train`.\n",
    "\n",
    "`Phi_train` is a matrix of 0s and 1s created by using the `words_in_texts` function on all the emails in the training set.\n",
    "\n",
    "`Y_train` is a vector of the correct labels for each email in the training set."
   ]
  },
  {
   "cell_type": "code",
   "execution_count": 54,
   "metadata": {
    "collapsed": false
   },
   "outputs": [
    {
     "data": {
      "text/plain": [
       "(array([[0, 0, 0, 0, 0],\n",
       "        [0, 0, 0, 0, 0],\n",
       "        [0, 0, 0, 0, 0],\n",
       "        [0, 0, 0, 0, 0],\n",
       "        [0, 0, 0, 1, 0]]), 7657    0\n",
       " 6911    0\n",
       " 6074    0\n",
       " 4376    0\n",
       " 5766    0\n",
       " Name: spam, dtype: int64)"
      ]
     },
     "execution_count": 54,
     "metadata": {},
     "output_type": "execute_result"
    }
   ],
   "source": [
    "useful_words = ['drug', 'bank', 'prescription', 'memo', 'private']\n",
    "\n",
    "Phi_train = words_in_texts(useful_words, train['email'])\n",
    "Y_train = train['spam']\n",
    "\n",
    "Phi_train[:5], Y_train[:5]"
   ]
  },
  {
   "cell_type": "code",
   "execution_count": 55,
   "metadata": {
    "collapsed": false
   },
   "outputs": [],
   "source": [
    "# sanity checks\n",
    "assert np.all(np.unique(Phi_train) == np.array([0, 1]))\n",
    "assert np.all(np.unique(Y_train) == np.array([0, 1]))\n",
    "assert Phi_train.shape[0] == Y_train.shape[0]\n",
    "assert Phi_train.shape[1] == len(useful_words)"
   ]
  },
  {
   "cell_type": "markdown",
   "metadata": {},
   "source": [
    "Now we have matrices we can give to scikit-learn! Using the Logistic Regression classifier, I train a logistic regression model using `Phi_train` and `Y_train`. Then, I output the accuracy of the model (on the training data) in the cell below. This will probably not be so great. "
   ]
  },
  {
   "cell_type": "code",
   "execution_count": 56,
   "metadata": {
    "collapsed": false
   },
   "outputs": [
    {
     "data": {
      "text/plain": [
       "0.75762012511646482"
      ]
     },
     "execution_count": 56,
     "metadata": {},
     "output_type": "execute_result"
    }
   ],
   "source": [
    "from sklearn import linear_model as lm\n",
    "\n",
    "model1 = lm.LogisticRegression()\n",
    "model1.fit(Phi_train, Y_train)\n",
    "\n",
    "training_accuracy = model1.score(Phi_train, Y_train)\n",
    "\n",
    "training_accuracy"
   ]
  },
  {
   "cell_type": "markdown",
   "metadata": {},
   "source": [
    "Hmmm seems to be pretty good at first glance... but think about it longer and you realize why. First, we are evaluating on the training set, which may lead to a misleading accuracy measure, especially if we used the training set to identify discriminative features. \n",
    "\n",
    "Presumably, our classifier will be used for filtering, i.e. preventing messages labelled `spam` from reaching someone's inbox. Since we are trying  There are two kinds of errors we can make:\n",
    "- False positive (FP): a ham email gets flagged as spam and filtered out of the inbox.\n",
    "- False negative (FN): a spam email gets mislabelled as ham and ends up in the inbox.\n",
    "\n",
    "These definitions depend both on the true labels and the predicted labels. False positives and false negatives may be of differing importance, leading us to consider more ways of evaluating a classifier, in addition to overall accuracy:\n",
    "\n",
    "**Precision** measures the proportion $\\frac{\\text{TP}}{\\text{TP} + \\text{FP}}$ of emails flagged as spam that are actually spam.\n",
    "\n",
    "**Recall** measures the proportion $\\frac{\\text{TP}}{\\text{TP} + \\text{FN}}$ of spam emails that were correctly flagged as spam. \n",
    "\n",
    "**False-alarm rate** measures the proportion $\\frac{\\text{FP}}{\\text{FP} + \\text{TN}}$ of ham emails that were incorrectly flagged as spam. \n",
    "\n",
    "Note that a true positive (TP) is a spam email that is classified as spam, and a true negative (TN) is a ham email that is classified as ham. "
   ]
  },
  {
   "cell_type": "markdown",
   "metadata": {},
   "source": [
    "Keeping this in mind, let's consider a few quiestions:"
   ]
  },
  {
   "cell_type": "markdown",
   "metadata": {},
   "source": [
    "- Suppose we have a classifier that just predicts 0 (ham) for every email. How many false positives are there? How many false negatives are there?\n",
    "\n",
    "    *Intuitively, there will be no false positives (aka a ham email getting flagged as spam). However, there will be as many false negatives as there are spam emails in the dataset, as all spam emails are mislabelled as ham. In this case, that count is 1918 false negatives.*\n",
    "    \n",
    "    \n",
    "- Suppose we have a classifier that just predicts 0 (ham) for every email. What is its accuracy on the training set? What is its recall on the training set?\n",
    "\n",
    "    *Again, using our intuition, the accuracy is just the proportion of ham emails in the set. Doing this, we get acc = .745. We can also use our intution to calculate recall. Recall is just 0, since there are 0 true positives and dividing 0 by anything is just 0.*\n"
   ]
  },
  {
   "cell_type": "markdown",
   "metadata": {},
   "source": [
    "- What are the precision, recall, and false-alarm rate of the logistic regression classifier above?"
   ]
  },
  {
   "cell_type": "code",
   "execution_count": 57,
   "metadata": {
    "collapsed": false
   },
   "outputs": [
    {
     "name": "stdout",
     "output_type": "stream",
     "text": [
      "precision: 0.978194816800715\n",
      "recall: 0.11418143899895725\n",
      "false alarm rate: 0.021805183199285077\n"
     ]
    }
   ],
   "source": [
    "y_pred = 0\n",
    "y_test = train['spam']\n",
    "y_predict = model1.predict(Phi_train)\n",
    "\n",
    "# provide training accuracy & recall, respectively,\n",
    "# for logistic regression classifier from question 5\n",
    "logistic_predictor_precision = sum((y_predict == y_test) & (y_predict == False)) / (sum((y_predict == y_test) & (y_predict == False)) + sum((y_predict != y_test) & (y_predict == True)))\n",
    "logistic_predictor_recall = sum((y_predict == y_test) & y_predict == True) / (sum((y_predict == y_test) & (y_predict == True)) + sum((y_predict != y_test) & (y_predict == False)))\n",
    "logistic_predictor_far = sum((y_predict != y_test) & (y_predict == True)) / (sum((y_predict != y_test) & (y_predict == True)) + sum((y_predict == y_test) & (y_predict == False)))\n",
    "\n",
    "print(\"precision: \" + str(logistic_predictor_precision))\n",
    "print(\"recall: \" + str(logistic_predictor_recall))\n",
    "print(\"false alarm rate: \" + str(logistic_predictor_far))"
   ]
  },
  {
   "cell_type": "markdown",
   "metadata": {},
   "source": [
    "## More Feature Engineering\n",
    "\n",
    "Clearly, our model needs many better features to be used as a respectable spam filter. Below we do just that. I will go less into theory, since I laid out some basic examples above!"
   ]
  },
  {
   "cell_type": "code",
   "execution_count": 58,
   "metadata": {
    "collapsed": true
   },
   "outputs": [],
   "source": [
    "def clean_email_text(dataframe):\n",
    "    \"\"\"\n",
    "    Takes in a DF with an 'email' column\n",
    "    returns a cleaned email column\n",
    "    \"\"\"\n",
    "    dataframe['email'] = dataframe['email'].str.lower() #make everything lower case\n",
    "    dataframe['email'] = dataframe['email'].str.replace(r'<[^>]+>', '') #remove HTML\n",
    "    dataframe['email'] = dataframe['email'].str.replace(r'^\\s+|\\s+?$', '') #make lower case\n",
    "    dataframe['email'] = dataframe['email'].str.replace(r'[^\\w\\d\\s]', ' ') #remove punctuation\n",
    "    dataframe['email'] = dataframe['email'].str.replace(r'\\s+', ' ') #replace multiple spaces\n",
    "    return dataframe"
   ]
  },
  {
   "cell_type": "code",
   "execution_count": 59,
   "metadata": {
    "collapsed": true
   },
   "outputs": [],
   "source": [
    "def punctuation_count(dataframe):\n",
    "    \"\"\"\n",
    "    Normalized count number of ! or ? in an email\n",
    "    Takes in DF (assumes 'email' column). Must be UNFORMATED!\n",
    "    \"\"\"\n",
    "    dataframe.loc[:, 'norm_excl_count'] = dataframe.loc[:, 'email'].str.count(r'[!]') / (dataframe.loc[:, 'email'].str.len()+1)\n",
    "    dataframe.loc[:, 'norm_quest_count'] = dataframe.loc[:, 'email'].str.count(r'[?]') / (dataframe.loc[:, 'email'].str.len()+1)\n",
    "    return dataframe"
   ]
  },
  {
   "cell_type": "code",
   "execution_count": 60,
   "metadata": {
    "collapsed": true
   },
   "outputs": [],
   "source": [
    "def email_length(dataframe):\n",
    "    # Raw length of DF\n",
    "    dataframe.loc[:, 'len'] = copy.loc[:, 'email'].str.len()\n",
    "    return dataframe"
   ]
  },
  {
   "cell_type": "markdown",
   "metadata": {},
   "source": [
    "Below I create a nice feature using a [TF-IDF](https://en.wikipedia.org/wiki/Tf%E2%80%93idf) (term frequency–inverse document frequency) vectorizer. SK-Learn has a great method that does this. It is a numerical statistic that reflects how important a word is to a document in a collection (in this case, email text). The tf-idf value increases proportionally to the number of times a word appears in an email, and is offset by the frequency of the word in the entire email collection, which helps to adjust for the fact that some words appear more frequently in general."
   ]
  },
  {
   "cell_type": "code",
   "execution_count": 61,
   "metadata": {
    "collapsed": true
   },
   "outputs": [],
   "source": [
    "from sklearn.feature_extraction.text import CountVectorizer\n",
    "from sklearn.feature_extraction.text import TfidfTransformer\n",
    "import scipy as scipy\n",
    "from scipy.sparse import hstack\n",
    "\n",
    "def tfidf_processor(dataframe):\n",
    "    \"\"\"\n",
    "    this method employs tf-idf (Term Frequency times Inverse Document Frequency). It avoids potential\n",
    "    discrepancies that arise from a simple bag of words representation.\n",
    "    Takes in a Dataframe, returns X data in a SPARSE matrix to save memory, which\n",
    "    works since most values are 0.\n",
    "    @Source SK-Learn http://scikit-learn.org/stable/tutorial/text_analytics/working_with_text_data.html\n",
    "    \"\"\"\n",
    "    # Converts text to a sparse matrix of token counts\n",
    "    count_vect = CountVectorizer()\n",
    "    X_train_vectorized = count_vect.fit_transform(dataframe['email'])\n",
    "\n",
    "    # Now employ a tdidf transorm to the matrix using SKLearn documentation\n",
    "    # Fit the transformer to the data, then then actually transform the data to sparse matrix\n",
    "    tfidf_transformer = TfidfTransformer(use_idf=True).fit(X_train_vectorized)\n",
    "    X_train_tfidf = tfidf_transformer.transform(X_train_vectorized)\n",
    "\n",
    "    return count_vect, tfidf_transformer, X_train_tfidf"
   ]
  },
  {
   "cell_type": "markdown",
   "metadata": {},
   "source": [
    "Create an SK-Learn pipeline. A cool aside if you're not familiar with this topic. Since there are millions of word combinations, we need to use a sparse matrix. It helps keep space use efficient. In ML, its quite useful with large swathes of data. You'll see some lines of code below that handel these matrix parts. "
   ]
  },
  {
   "cell_type": "code",
   "execution_count": 62,
   "metadata": {
    "collapsed": true
   },
   "outputs": [],
   "source": [
    "def pipeline(data):\n",
    "    \"\"\"\n",
    "    Takes in a DataFrame, applies transformations in pipeline.\n",
    "    Assumes format of data as having 'email' and 'subject' column\n",
    "    Returns: X_train, y_train, a fitted count_vecorizer method, a fitted tfidfTransformer (NOTE: These last 2\n",
    "    are key latter so you can use it for the test/eval data! If you call a new vect_count or tfidf method, your sparse\n",
    "    matrices are the incorrect size because the method evaluates the text differently, creating different combinations!). \n",
    "    also, X_train is a SPARSE matrix!\n",
    "    \"\"\"\n",
    "    # clean the email text column for vectorization\n",
    "    cleaned_emails = clean_email_text(data)\n",
    "    \n",
    "    # Here I use SK-Learn's CountVectorizer method, which\n",
    "    # Converts text to a ~sparse~ matrix of token counts\n",
    "    count_vectorizer = CountVectorizer()\n",
    "    X_train_email_counts = count_vectorizer.fit_transform(cleaned_emails['email'])\n",
    "    \n",
    "    # Now we employ a tdidf transorm to the matrix using SKLearn's tf-dif \n",
    "    # (Term Frequency times Inverse Document Frequency). It avoids potential\n",
    "    # bias that arises from the simple bag of words approach. So, below we \n",
    "    # Fit the transformer to the data, then then transform ir to a sparse matrix\n",
    "    tfidf_transformer = TfidfTransformer()\n",
    "    X_train_tfidf = tfidf_transformer.fit_transform(X_train_email_counts)\n",
    "    \n",
    "    # Now we take the uncleaned data and create a feature that has proportion of\n",
    "    # exclamation points and question marks. NOTE this is not in a sparse matrix\n",
    "    # format so we need to convert it to that. We CANNOT conver a sparse matrix\n",
    "    # to a regular DF because that may either crash your browser or melt your computer.\n",
    "    X_punct_props =  punctuation_count(data)[['norm_excl_count', 'norm_quest_count']]\n",
    "    X_punct_props_sparse = scipy.sparse.csr_matrix(X_punct_props.values)\n",
    "    \n",
    "    # Now we need to put these two sparse matrices together via scipy\n",
    "    X = hstack((X_punct_props_sparse, X_train_tfidf))\n",
    "    \n",
    "    # What the training data should be\n",
    "    y = data['spam']\n",
    "    \n",
    "    return X, y, count_vectorizer, tfidf_transformer"
   ]
  },
  {
   "cell_type": "markdown",
   "metadata": {},
   "source": [
    "Now let's train our model!"
   ]
  },
  {
   "cell_type": "code",
   "execution_count": 63,
   "metadata": {
    "collapsed": true
   },
   "outputs": [],
   "source": [
    "[train, test] = train_test_split(original_training_data, test_size=0.1, random_state=42)\n",
    "\n",
    "X_train, y_train, count_vectorizer, tfidf_transformer = pipeline(train)"
   ]
  },
  {
   "cell_type": "markdown",
   "metadata": {},
   "source": [
    "Here's our model"
   ]
  },
  {
   "cell_type": "code",
   "execution_count": 64,
   "metadata": {
    "collapsed": false
   },
   "outputs": [
    {
     "data": {
      "text/plain": [
       "LogisticRegressionCV(Cs=10, class_weight=None, cv=None, dual=False,\n",
       "           fit_intercept=True, intercept_scaling=1.0, max_iter=100,\n",
       "           multi_class='ovr', n_jobs=1, penalty='l2', random_state=None,\n",
       "           refit=True, scoring=None, solver='lbfgs', tol=0.0001, verbose=0)"
      ]
     },
     "execution_count": 64,
     "metadata": {},
     "output_type": "execute_result"
    }
   ],
   "source": [
    "from sklearn import linear_model as lm\n",
    "final_model = lm.LogisticRegressionCV()\n",
    "final_model.fit(X_train, y_train)"
   ]
  },
  {
   "cell_type": "code",
   "execution_count": 65,
   "metadata": {
    "collapsed": false
   },
   "outputs": [
    {
     "data": {
      "text/plain": [
       "0.99281437125748506"
      ]
     },
     "execution_count": 65,
     "metadata": {},
     "output_type": "execute_result"
    }
   ],
   "source": [
    "# Process Test/Evaluative Data\n",
    "def process_data(data, count_vectorizer, tfidf_transformer):\n",
    "    \n",
    "    cleaned_emails = clean_email_text(data)\n",
    "    X_counts = count_vectorizer.transform(cleaned_emails['email'])\n",
    "    X_tfidf = tfidf_transformer.transform(X_counts)\n",
    "\n",
    "    punct = punctuation_count(data)[['norm_excl_count', 'norm_quest_count']]\n",
    "    punct_sparse = scipy.sparse.csr_matrix(punct.values)\n",
    "    X = hstack((punct_sparse, X_tfidf))\n",
    "    \n",
    "    return X\n",
    "    \n",
    "X_test = process_data(test, count_vectorizer, tfidf_transformer)\n",
    "    \n",
    "predicted = final_model.predict(X_test)\n",
    "\n",
    "# So how did we do wrt to the test data?\n",
    "np.mean(predicted == test['spam'])  "
   ]
  },
  {
   "cell_type": "markdown",
   "metadata": {},
   "source": [
    "99.2 accuracy on the test data. Not shabby at all! I use Kaggle to ultimately evaluate my performance on the rest of the data. Here's the code for that below. "
   ]
  },
  {
   "cell_type": "code",
   "execution_count": 66,
   "metadata": {
    "collapsed": true
   },
   "outputs": [],
   "source": [
    "eval_data = pd.read_csv('data/eval.csv')\n",
    "\n",
    "X_eval = process_data(eval_data, count_vectorizer, tfidf_transformer)\n",
    "\n",
    "eval_predicted = final_model.predict(X_eval)\n",
    "\n",
    "\n",
    "# submission_df = pd.DataFrame({\n",
    "#     \"Id\": evaluation['id'], \n",
    "#     \"Class\": evaluation_predictions,\n",
    "# }, columns=['Id', 'Class'])\n",
    "# timestamp = datetime.isoformat(datetime.now()).split(\".\")[0]\n",
    "# submission_df.to_csv(\"submission_{}.csv\".format(timestamp), index=False)\n",
    "\n",
    "# print('Created a CSV file: {}.'.format(\"submission_{}.csv\".format(timestamp)))"
   ]
  },
  {
   "cell_type": "markdown",
   "metadata": {},
   "source": [
    "Just to be sure these results are worthwhile, I create a Precession-Recall Curve. Before checking the actual graph, you may have an idea of what it will look like... a flat line at 1 since this model is pretty good!"
   ]
  },
  {
   "cell_type": "code",
   "execution_count": 67,
   "metadata": {
    "collapsed": false
   },
   "outputs": [
    {
     "data": {
      "text/plain": [
       "<matplotlib.text.Text at 0x7fc80df40c50>"
      ]
     },
     "execution_count": 67,
     "metadata": {},
     "output_type": "execute_result"
    },
    {
     "data": {
      "image/png": "[encoded data removed]",
      "text/plain": [
       "<matplotlib.figure.Figure at 0x7fc80c32b3c8>"
      ]
     },
     "metadata": {},
     "output_type": "display_data"
    }
   ],
   "source": [
    "from sklearn.metrics import precision_recall_curve\n",
    "\n",
    "# Note that you'll want to use the .predict_proba(...) method for your classifier\n",
    "# instead of .predict(...) so you get probabilities, not classes\n",
    "\n",
    "probs = final_model.predict_proba(X_train)\n",
    "fpr, tpr, _ = precision_recall_curve(y_train, probs[:,1]) \n",
    "plt.plot(tpr, fpr, color='b')\n",
    "plt.fill_between(tpr, fpr, step='post', alpha=0.2, color='navy')\n",
    "\n",
    "\n",
    "plt.xlabel('Recall')\n",
    "plt.ylabel('Precision')\n",
    "plt.ylim([0.0, 1.05])\n",
    "plt.xlim([0.0, 1.0])\n",
    "plt.title('Precision-Recall Curve')\n",
    "# The below plot makes sense since I have .99 accuracy."
   ]
  }
 ],
 "metadata": {
  "kernelspec": {
   "display_name": "Python [conda env:anaconda3]",
   "language": "python",
   "name": "conda-env-anaconda3-py"
  },
  "language_info": {
   "codemirror_mode": {
    "name": "ipython",
    "version": 3
   },
   "file_extension": ".py",
   "mimetype": "text/x-python",
   "name": "python",
   "nbconvert_exporter": "python",
   "pygments_lexer": "ipython3",
   "version": "3.5.2"
  }
 },
 "nbformat": 4,
 "nbformat_minor": 1
}
